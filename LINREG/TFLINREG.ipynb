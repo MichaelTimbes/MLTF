{
 "cells": [
  {
   "cell_type": "code",
   "execution_count": 1,
   "metadata": {
    "collapsed": true,
    "deletable": true,
    "editable": true
   },
   "outputs": [],
   "source": [
    "# Example of single variable linear regression using Tensorflow.\n",
    "# Michael Timbes"
   ]
  },
  {
   "cell_type": "code",
   "execution_count": 2,
   "metadata": {
    "collapsed": true,
    "deletable": true,
    "editable": true
   },
   "outputs": [],
   "source": [
    "import tensorflow as tf\n",
    "import numpy as np\n",
    "import pandas as pd\n",
    "import matplotlib.pyplot as plt"
   ]
  },
  {
   "cell_type": "code",
   "execution_count": 3,
   "metadata": {
    "collapsed": true,
    "deletable": true,
    "editable": true
   },
   "outputs": [],
   "source": [
    "def normalize(x):\n",
    "    \"\"\"\n",
    "    Normalizes an input vector.\n",
    "    \"\"\"\n",
    "    mu = np.mean(x)\n",
    "    st = np.std(x)\n",
    "    for i in range(len(x)):\n",
    "        x[i] = ((x[i]-mu)/st)\n",
    "    return x"
   ]
  },
  {
   "cell_type": "code",
   "execution_count": 4,
   "metadata": {
    "collapsed": false,
    "deletable": true,
    "editable": true
   },
   "outputs": [],
   "source": [
    "alpha = 0.02\n",
    "\n",
    "# Theta Values\n",
    "theta_0 = tf.Variable([.01],tf.float32)\n",
    "theta_1 = tf.Variable([-2.0],tf.float32)\n",
    "\n",
    "# Input Parameter x\n",
    "x = tf.placeholder(tf.float32)\n",
    "\n",
    "# Input Parameter y\n",
    "y = tf.placeholder(tf.float32)\n",
    "\n",
    "# Linear Model\n",
    "lin_mod = theta_1 * x + theta_0\n",
    "\n",
    "# Define Cost Variable\n",
    "cost = tf.reduce_sum(tf.square(lin_mod - y))\n",
    "\n",
    "# Define Optimization Object\n",
    "optimizationobj = tf.train.GradientDescentOptimizer(alpha)\n",
    "improve = optimizationobj.minimize(cost)"
   ]
  },
  {
   "cell_type": "code",
   "execution_count": 5,
   "metadata": {
    "collapsed": false,
    "deletable": true,
    "editable": true
   },
   "outputs": [
    {
     "name": "stdout",
     "output_type": "stream",
     "text": [
      "X-Mean:  62.4545454545\n",
      "X-Standard Deviation:  8.69026243315\n",
      "Y-Mean:  150.090909091\n",
      "Y-Standard Deviation:  12.9926870722\n"
     ]
    },
    {
     "data": {
      "image/png": "[encoded data removed]",
      "text/plain": [
       "<matplotlib.figure.Figure at 0x112021e80>"
      ]
     },
     "metadata": {},
     "output_type": "display_data"
    }
   ],
   "source": [
    "# Training Input Data\n",
    "data_frame =pd.read_csv('data.csv', sep=',')\n",
    "data_frame = np.asarray(data_frame)\n",
    "# Original Data\n",
    "x_train_data = data_frame[:,1] #X2 = Age\n",
    "y_train_data = data_frame[:,0] #X1 = Blood Pressure\n",
    "#print(x_train_data)\n",
    "#print(y_train_data)\n",
    "# Copy\n",
    "x_train_data_norm = np.copy(x_train_data) #X2 = Age\n",
    "y_train_data_norm = np.copy(y_train_data) #X1 = Blood Pressure\n",
    "x_mean = np.mean(x_train_data)\n",
    "x_stde = np.std(x_train_data)\n",
    "print(\"X-Mean: \", x_mean)\n",
    "print(\"X-Standard Deviation: \", x_stde)\n",
    "print(\"Y-Mean: \", np.mean(y_train_data))\n",
    "print(\"Y-Standard Deviation: \", np.std(y_train_data))\n",
    "# Normalize\n",
    "normalize(x_train_data_norm)\n",
    "normalize(y_train_data_norm)\n",
    "plt.plot(x_train_data, y_train_data,\"+\")\n",
    "plt.show()"
   ]
  },
  {
   "cell_type": "code",
   "execution_count": 6,
   "metadata": {
    "collapsed": false,
    "deletable": true,
    "editable": true
   },
   "outputs": [],
   "source": [
    "# Training Phase\n",
    "global_init = tf.global_variables_initializer()\n",
    "session = tf.Session()\n",
    "session.run(global_init) # Activate Envir\n",
    "\n",
    "# Train Loop\n",
    "for i in range(600):\n",
    "    session.run(improve,{x:x_train_data_norm,y:y_train_data_norm})\n",
    "    #print(improve)"
   ]
  },
  {
   "cell_type": "code",
   "execution_count": 7,
   "metadata": {
    "collapsed": false,
    "deletable": true,
    "editable": true
   },
   "outputs": [
    {
     "name": "stdout",
     "output_type": "stream",
     "text": [
      "Theta-1 Val: [ 0.83333319]\n",
      "Theta-0 Val: [-0.16666666]\n",
      "Total Loss:  1.5\n"
     ]
    }
   ],
   "source": [
    "#Verification\n",
    "theta0, theta1, loss_result = session.run([theta_0,theta_1,cost],{x:x_train_data_norm,y:y_train_data_norm})\n",
    "print(\"Theta-1 Val:\",theta1)\n",
    "print(\"Theta-0 Val:\",theta0)\n",
    "print(\"Total Loss: \", loss_result)"
   ]
  },
  {
   "cell_type": "code",
   "execution_count": 8,
   "metadata": {
    "collapsed": false,
    "deletable": true,
    "editable": true
   },
   "outputs": [
    {
     "data": {
      "image/png": "[encoded data removed]",
      "text/plain": [
       "<matplotlib.figure.Figure at 0x11211e0b8>"
      ]
     },
     "metadata": {},
     "output_type": "display_data"
    },
    {
     "data": {
      "image/png": "[encoded data removed]",
      "text/plain": [
       "<matplotlib.figure.Figure at 0x112216160>"
      ]
     },
     "metadata": {},
     "output_type": "display_data"
    }
   ],
   "source": [
    "# Graph of Normalized Fit\n",
    "x_vals_N = np.arange(-1, 2, .1)\n",
    "y_vals_norm = ((theta1 * x_vals_N) + theta0)\n",
    "plt.plot(x_vals_N, y_vals_norm,\"g\",x_train_data_norm, y_train_data_norm,\"o\")\n",
    "plt.show()\n",
    "# Graph of Actual Fit\n",
    "x_vals = np.arange(45, 75, 2.73)\n",
    "y_vals_Actnorm = ((theta1 * x_vals) + theta0)\n",
    "offset = ((theta1 * x_train_data) + theta0)/y_train_data\n",
    "y_vals = (1/np.mean(offset))*(y_vals_Actnorm) # Adjust for normalization\n",
    "plt.plot(x_vals, y_vals,\"--\",x_train_data, y_train_data,\"o\")\n",
    "plt.show()"
   ]
  }
 ],
 "metadata": {
  "kernelspec": {
   "display_name": "Python 3",
   "language": "python",
   "name": "python3"
  },
  "language_info": {
   "codemirror_mode": {
    "name": "ipython",
    "version": 3
   },
   "file_extension": ".py",
   "mimetype": "text/x-python",
   "name": "python",
   "nbconvert_exporter": "python",
   "pygments_lexer": "ipython3",
   "version": "3.6.0"
  }
 },
 "nbformat": 4,
 "nbformat_minor": 2
}
