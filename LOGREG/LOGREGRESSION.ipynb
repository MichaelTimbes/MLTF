{
 "cells": [
  {
   "cell_type": "code",
   "execution_count": 1,
   "metadata": {
    "collapsed": true
   },
   "outputs": [],
   "source": [
    "# Example of Logistic Regression\n",
    "# Michael Timbes"
   ]
  },
  {
   "cell_type": "code",
   "execution_count": 2,
   "metadata": {
    "collapsed": true
   },
   "outputs": [],
   "source": [
    "import tensorflow as tf\n",
    "import numpy as np\n",
    "import pandas as pd\n",
    "import matplotlib.pyplot as plt"
   ]
  },
  {
   "cell_type": "code",
   "execution_count": 3,
   "metadata": {
    "collapsed": true
   },
   "outputs": [],
   "source": [
    "def normalize(x):\n",
    "    \"\"\"\n",
    "    Normalizes an input vector.\n",
    "    \"\"\"\n",
    "    \n",
    "    mu = np.mean(x)\n",
    "    st = np.std(x)\n",
    "    for i in range(len(x)):\n",
    "        x[i] = ((x[i]-mu)/st)\n",
    "    return x"
   ]
  },
  {
   "cell_type": "code",
   "execution_count": 4,
   "metadata": {
    "collapsed": true
   },
   "outputs": [],
   "source": [
    "def app_sig(val):\n",
    "    return 1/(1+np.exp(-val))"
   ]
  },
  {
   "cell_type": "code",
   "execution_count": 5,
   "metadata": {
    "collapsed": true
   },
   "outputs": [],
   "source": [
    "def mklabels(Y_):\n",
    "    \"\"\"\n",
    "    Input is a Y vector (1-D) and makes two label classes [1,0] true [0,1] false.\n",
    "    Returns array of the classes.\n",
    "    \"\"\"\n",
    "    num = len(Y_)\n",
    "    Y_temp = np.zeros([num,2])\n",
    "    for i in range(num):\n",
    "        if (Y_[i] == 1):\n",
    "            Y_temp[i,0] = 1 # Make True Class\n",
    "        if (Y_[i] == 0):\n",
    "            Y_temp[i,1] = 1 # Make False Class\n",
    "    return np.asarray(Y_temp)"
   ]
  },
  {
   "cell_type": "code",
   "execution_count": 14,
   "metadata": {
    "collapsed": true
   },
   "outputs": [],
   "source": [
    "def labelize(pvec):\n",
    "    # Input is a (1,2)\n",
    "    #return pvec[0][0]\n",
    "    if pvec[0][0] == 1:\n",
    "        return True\n",
    "    else:\n",
    "        return False"
   ]
  },
  {
   "cell_type": "code",
   "execution_count": 24,
   "metadata": {
    "collapsed": true
   },
   "outputs": [],
   "source": [
    "def translate(pvec):\n",
    "    if pvec[0][0] == 1:\n",
    "        return 1\n",
    "    else:\n",
    "        return 0"
   ]
  },
  {
   "cell_type": "code",
   "execution_count": 7,
   "metadata": {},
   "outputs": [
    {
     "name": "stdout",
     "output_type": "stream",
     "text": [
      "0\n",
      "Number of trainig input: 80\n",
      "[ 0.  1.]\n"
     ]
    }
   ],
   "source": [
    "# Data Preparation\n",
    "data_frame =pd.read_csv('HeartData.csv', sep=',')\n",
    "data_frame = np.asarray(data_frame)\n",
    "\n",
    "# Assign Training Data to Input vectors\n",
    "X_train = data_frame[0:80,1] # Ages \n",
    "Y_train = data_frame[0:80,2] # Heart Disease(1) or not Heart Disease(0)\n",
    "X_plt, Y_plt = X_train, Y_train\n",
    "# Assign Test Data\n",
    "X_test = data_frame[81:100,1] # Ages\n",
    "Y_test = data_frame[81:100,2] # Heart Disease(1) or not Heart Disease(0)\n",
    "print(Y_train[1])\n",
    "\n",
    "# Normalize Along X\n",
    "#X_train = normalize(X_train)\n",
    "#X_test = normalize(X_test)\n",
    "num_tr = len(X_train)\n",
    "num_te = len(X_test)\n",
    "\n",
    "# Make Y a 2-D Vector for true class and false class\n",
    "Y_temp = np.zeros([num_tr,2])\n",
    "\n",
    "# Ensure One-Hot Encoding\n",
    "Y_train = mklabels(Y_train)\n",
    "Y_test = mklabels(Y_test)\n",
    "print(\"Number of trainig input:\",num_tr)\n",
    "print(Y_train[1])"
   ]
  },
  {
   "cell_type": "code",
   "execution_count": 8,
   "metadata": {},
   "outputs": [
    {
     "data": {
      "image/png": "[encoded data removed]",
      "text/plain": [
       "<matplotlib.figure.Figure at 0x1f62643da20>"
      ]
     },
     "metadata": {},
     "output_type": "display_data"
    }
   ],
   "source": [
    "plt.scatter(X_plt[:],Y_plt[:])\n",
    "plt.xlabel('Age')\n",
    "plt.ylabel('T/F If Heart Disease is Likely')\n",
    "plt.show()"
   ]
  },
  {
   "cell_type": "code",
   "execution_count": 9,
   "metadata": {
    "collapsed": true
   },
   "outputs": [],
   "source": [
    "# Model\n",
    "alpha = 0.4\n",
    "X = tf.placeholder(tf.float32,shape=[None,1]) # Conection for X vals\n",
    "Y = tf.placeholder(tf.float32,shape=[None,2]) # Connection for Y vals\n",
    "\n",
    "# Design Matrix\n",
    "\n",
    "W = tf.Variable(tf.zeros([1,2])) # Two Variables for classification\n",
    "b = tf.Variable(tf.zeros([2])) # (b1 b2)\n",
    "#h = tf.matmul(X,W) + b\n",
    "h = tf.matmul(X,W) + b\n",
    "# Cost Function Known_Labels = Y, Output_Labels (logits) = h\n",
    "cost = tf.reduce_mean(tf.nn.sigmoid_cross_entropy_with_logits(labels=Y, logits=h))\n",
    "# Optimization\n",
    "opt_step = tf.train.GradientDescentOptimizer(alpha).minimize(cost)\n",
    "\n",
    "# Initialization\n",
    "session = tf.InteractiveSession()\n",
    "session.run(tf.global_variables_initializer())\n",
    "x_batch = np.ones((1, 1))\n",
    "y_batch = np.ones((1, 2))"
   ]
  },
  {
   "cell_type": "code",
   "execution_count": 10,
   "metadata": {
    "collapsed": true
   },
   "outputs": [],
   "source": [
    "# Training \n",
    "for i in range(500):\n",
    "    r = np.random.permutation(range(num_tr))\n",
    "    X_train,Y_train = X_train[r], Y_train[r]\n",
    "    for j in range(num_tr):\n",
    "        x_batch[0,:] = X_train[j]\n",
    "        y_batch[0,:] = Y_train[j]\n",
    "        session.run(opt_step,feed_dict={X:x_batch,Y:y_batch})"
   ]
  },
  {
   "cell_type": "code",
   "execution_count": 19,
   "metadata": {},
   "outputs": [
    {
     "name": "stdout",
     "output_type": "stream",
     "text": [
      "Loss: 0\n",
      "W=  [[ 10.1359787 -10.1359787]]\n",
      "B=  [-250.95787048  250.95787048]\n",
      "True\n",
      "Example Data Point [[ 1.  0.]]\n"
     ]
    }
   ],
   "source": [
    "# Verification\n",
    "for j in range(num_tr):\n",
    "        x_batch[0,:] = X_train[j]\n",
    "        y_batch[0,:] = Y_train[j]\n",
    "        loss = session.run(cost,feed_dict={X:x_batch,Y:y_batch})\n",
    "w = np.asmatrix(session.run(W))\n",
    "bb = np.asmatrix(session.run(b))\n",
    "xx = np.asmatrix([85])\n",
    "print(\"Loss: %d\"%(loss))\n",
    "print(\"W= \",w)\n",
    "print(\"B= \",session.run(b))\n",
    "test_case = np.asarray(np.round(app_sig(np.matmul(xx,w)+bb)))\n",
    "print(labelize(test_case))\n",
    "print(\"Example Data Point\",test_case)"
   ]
  },
  {
   "cell_type": "code",
   "execution_count": 12,
   "metadata": {
    "collapsed": true
   },
   "outputs": [],
   "source": [
    "# Testing\n",
    "# Correct prediction between the Y output of the model and the Y_test known values\n",
    "correct_prediction = tf.equal(tf.argmax(Y,1), tf.argmax(Y_test,1))\n",
    "\n",
    "# Accuracy Points to Reduce_Mean Operation\n",
    "accuracy = tf.reduce_mean(tf.cast(correct_prediction, tf.float32))\n",
    "# Run Test\n",
    "accuracy_result = []\n",
    "for j in range(num_te):\n",
    "        x_batch[0,:] = X_test[j]\n",
    "        y_batch[0,:] = Y_test[j]\n",
    "        accuracy_result.append(accuracy.eval(feed_dict={X:x_batch,Y:y_batch}))"
   ]
  },
  {
   "cell_type": "code",
   "execution_count": 13,
   "metadata": {},
   "outputs": [
    {
     "name": "stdout",
     "output_type": "stream",
     "text": [
      "0.734072\n"
     ]
    }
   ],
   "source": [
    "print(np.mean(accuracy_result))"
   ]
  },
  {
   "cell_type": "code",
   "execution_count": 30,
   "metadata": {
    "collapsed": true
   },
   "outputs": [],
   "source": [
    "y_test = []\n",
    "for i in range(1,85):\n",
    "    y_test.append(translate(np.asarray(np.round(app_sig(np.matmul(np.asmatrix(i),w)+bb)))))\n",
    "y_test = np.asarray(y_test)\n",
    "#print(y_test)\n",
    "x_test = np.arange(1,85)\n",
    "#print(x_test)"
   ]
  },
  {
   "cell_type": "code",
   "execution_count": 36,
   "metadata": {},
   "outputs": [
    {
     "data": {
      "image/png": "[encoded data removed]",
      "text/plain": [
       "<matplotlib.figure.Figure at 0x1f626e70128>"
      ]
     },
     "metadata": {},
     "output_type": "display_data"
    }
   ],
   "source": [
    "plt.scatter(x_test[:],y_test[:])\n",
    "plt.xlabel('Age')\n",
    "plt.xticks([1,5,10,15,20,25,30,35,40,45,50,55,60,65,70,75,80,85])\n",
    "plt.ylabel('T/F If Heart Disease is Likely')\n",
    "plt.show()"
   ]
  }
 ],
 "metadata": {
  "kernelspec": {
   "display_name": "Python 3",
   "language": "python",
   "name": "python3"
  },
  "language_info": {
   "codemirror_mode": {
    "name": "ipython",
    "version": 3
   },
   "file_extension": ".py",
   "mimetype": "text/x-python",
   "name": "python",
   "nbconvert_exporter": "python",
   "pygments_lexer": "ipython3",
   "version": "3.6.3"
  }
 },
 "nbformat": 4,
 "nbformat_minor": 2
}
