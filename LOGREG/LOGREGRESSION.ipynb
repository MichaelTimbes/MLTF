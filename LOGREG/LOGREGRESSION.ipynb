{
 "cells": [
  {
   "cell_type": "code",
   "execution_count": 46,
   "metadata": {
    "collapsed": true,
    "deletable": true,
    "editable": true
   },
   "outputs": [],
   "source": [
    "# Example of Logistic Regression\n",
    "# Michael Timbes"
   ]
  },
  {
   "cell_type": "code",
   "execution_count": 47,
   "metadata": {
    "collapsed": true,
    "deletable": true,
    "editable": true
   },
   "outputs": [],
   "source": [
    "import tensorflow as tf\n",
    "import numpy as np\n",
    "import pandas as pd\n",
    "import matplotlib.pyplot as plt"
   ]
  },
  {
   "cell_type": "code",
   "execution_count": 48,
   "metadata": {
    "collapsed": true,
    "deletable": true,
    "editable": true
   },
   "outputs": [],
   "source": [
    "def normalize(x,mu=0,st=0):\n",
    "    \"\"\"\n",
    "    Normalizes an input vector.\n",
    "    \"\"\"\n",
    "    \n",
    "    mu = np.mean(x)\n",
    "    st = np.std(x)\n",
    "    for i in range(len(x)):\n",
    "        x[i] = ((x[i]-mu)/st)\n",
    "    return x,mu,st"
   ]
  },
  {
   "cell_type": "code",
   "execution_count": 49,
   "metadata": {
    "collapsed": true
   },
   "outputs": [],
   "source": [
    "def app_sig(val):\n",
    "    return 1/(1+np.exp(-val))"
   ]
  },
  {
   "cell_type": "code",
   "execution_count": 50,
   "metadata": {
    "collapsed": false,
    "deletable": true,
    "editable": true
   },
   "outputs": [],
   "source": [
    "def mklabels(Y_):\n",
    "    \"\"\"\n",
    "    Input is a Y vector (1-D) and makes two label classes [1,0] true [0,1] false.\n",
    "    Returns array of the classes.\n",
    "    \"\"\"\n",
    "    num = len(Y_)\n",
    "    Y_temp = np.zeros([num,2])\n",
    "    for i in range(num):\n",
    "        if (Y_[i] == 1):\n",
    "            Y_temp[i,0] = 1 # Make True Class\n",
    "        if (Y_[i] == 0):\n",
    "            Y_temp[i,1] = 1 # Make False Class\n",
    "    return np.asarray(Y_temp)"
   ]
  },
  {
   "cell_type": "code",
   "execution_count": 51,
   "metadata": {
    "collapsed": true
   },
   "outputs": [],
   "source": [
    "def labelize(pvec):\n",
    "    pvec = np.round(pvec)\n",
    "    if pvec[0] is 1:\n",
    "        return True\n",
    "    else:\n",
    "        return False"
   ]
  },
  {
   "cell_type": "code",
   "execution_count": 52,
   "metadata": {
    "collapsed": false,
    "deletable": true,
    "editable": true
   },
   "outputs": [
    {
     "name": "stdout",
     "output_type": "stream",
     "text": [
      "0\n",
      "Number of trainig input: 80\n",
      "[ 0.  1.]\n"
     ]
    }
   ],
   "source": [
    "# Data Preparation\n",
    "data_frame =pd.read_csv('HeartData.csv', sep=',')\n",
    "data_frame = np.asarray(data_frame)\n",
    "\n",
    "# Assign Training Data to Input vectors\n",
    "X_train = data_frame[0:80,1] # Ages \n",
    "Y_train = data_frame[0:80,2] # Heart Disease(1) or not Heart Disease(0)\n",
    "X_plt, Y_plt = X_train, Y_train\n",
    "# Assign Test Data\n",
    "X_test = data_frame[81:100,1] # Ages\n",
    "Y_test = data_frame[81:100,2] # Heart Disease(1) or not Heart Disease(0)\n",
    "print(Y_train[1])\n",
    "\n",
    "# Normalize Along X\n",
    "X_train,mtr,sttrain = normalize(X_train)\n",
    "X_test,mte,sttest = normalize(X_test)\n",
    "num_tr = len(X_train)\n",
    "num_te = len(X_test)\n",
    "\n",
    "# Make Y a 2-D Vector for true class and false class\n",
    "Y_temp = np.zeros([num_tr,2])\n",
    "\n",
    "# Ensure One-Hot Encoding\n",
    "Y_train = mklabels(Y_train)\n",
    "Y_test = mklabels(Y_test)\n",
    "print(\"Number of trainig input:\",num_tr)\n",
    "print(Y_train[1])"
   ]
  },
  {
   "cell_type": "code",
   "execution_count": 53,
   "metadata": {
    "collapsed": false
   },
   "outputs": [
    {
     "data": {
      "image/png": "[encoded data removed]",
      "text/plain": [
       "<matplotlib.figure.Figure at 0x10eb10fd0>"
      ]
     },
     "metadata": {},
     "output_type": "display_data"
    }
   ],
   "source": [
    "plt.scatter(X_plt[:],Y_plt[:])\n",
    "plt.xlabel('Normalized Age Data')\n",
    "plt.ylabel('T/F If Heart Disease is Likely')\n",
    "plt.show()"
   ]
  },
  {
   "cell_type": "code",
   "execution_count": 54,
   "metadata": {
    "collapsed": false,
    "deletable": true,
    "editable": true
   },
   "outputs": [],
   "source": [
    "# Model\n",
    "alpha = 0.4\n",
    "X = tf.placeholder(tf.float32,shape=[None,1]) # Conection for X vals\n",
    "Y = tf.placeholder(tf.float32,shape=[None,2]) # Connection for Y vals\n",
    "\n",
    "# Design Matrix\n",
    "\n",
    "W = tf.Variable(tf.zeros([1,2])) # Two Variables for classification\n",
    "b = tf.Variable(tf.zeros([2])) # (b1 b2)\n",
    "#h = tf.matmul(X,W) + b\n",
    "h = tf.matmul(X,W) + b\n",
    "# Cost Function Known_Labels = Y, Output_Labels (logits) = h\n",
    "cost = tf.reduce_mean(tf.nn.sigmoid_cross_entropy_with_logits(labels=Y, logits=h))\n",
    "\n",
    "# Optimization\n",
    "opt_step = tf.train.GradientDescentOptimizer(alpha).minimize(cost)\n",
    "\n",
    "# Initialization\n",
    "session = tf.InteractiveSession()\n",
    "session.run(tf.global_variables_initializer())\n",
    "x_batch = np.ones((1, 1))\n",
    "y_batch = np.ones((1, 2))"
   ]
  },
  {
   "cell_type": "code",
   "execution_count": 55,
   "metadata": {
    "collapsed": false,
    "deletable": true,
    "editable": true
   },
   "outputs": [],
   "source": [
    "# Training \n",
    "for i in range(500):\n",
    "    r = np.random.permutation(range(num_tr))\n",
    "    X_train,Y_train = X_train[r], Y_train[r]\n",
    "    for j in range(num_tr):\n",
    "        x_batch[0,:] = X_train[j]\n",
    "        y_batch[0,:] = Y_train[j]\n",
    "        session.run(opt_step,feed_dict={X:x_batch,Y:y_batch})"
   ]
  },
  {
   "cell_type": "code",
   "execution_count": 60,
   "metadata": {
    "collapsed": false,
    "deletable": true,
    "editable": true
   },
   "outputs": [
    {
     "name": "stdout",
     "output_type": "stream",
     "text": [
      "W=  [[ 1.20243835 -1.20243835]]\n",
      "B=  [-0.88779169  0.88779169]\n",
      "Total Loss:  0.862795\n",
      "Example Data Point [[ 0.23104173  0.76895827]]\n"
     ]
    }
   ],
   "source": [
    "# Verification\n",
    "for j in range(num_tr):\n",
    "        x_batch[0,:] = X_train[j]\n",
    "        y_batch[0,:] = Y_train[j]\n",
    "        loss = session.run(cost,feed_dict={X:x_batch,Y:y_batch})\n",
    "w = np.asmatrix(session.run(W))\n",
    "xx = np.asmatrix([-1])\n",
    "print(\"W= \",w)\n",
    "print(\"B= \",session.run(b))\n",
    "print(\"Total Loss: \",loss)\n",
    "\n",
    "print(\"Example Data Point\",app_sig(np.matmul(xx,w)))"
   ]
  },
  {
   "cell_type": "code",
   "execution_count": 57,
   "metadata": {
    "collapsed": false,
    "deletable": true,
    "editable": true
   },
   "outputs": [],
   "source": [
    "# Testing\n",
    "# Correct prediction between the Y output of the model and the Y_test known values\n",
    "correct_prediction = tf.equal(tf.argmax(Y,1), tf.argmax(Y_test,1))\n",
    "\n",
    "# Accuracy Points to Reduce_Mean Operation\n",
    "accuracy = tf.reduce_mean(tf.cast(correct_prediction, tf.float32))\n",
    "# Run Test\n",
    "accuracy_result = []\n",
    "for j in range(num_te):\n",
    "        x_batch[0,:] = X_test[j]\n",
    "        y_batch[0,:] = Y_test[j]\n",
    "        accuracy_result.append(accuracy.eval(feed_dict={X:x_batch,Y:y_batch}))"
   ]
  },
  {
   "cell_type": "code",
   "execution_count": 58,
   "metadata": {
    "collapsed": false
   },
   "outputs": [
    {
     "name": "stdout",
     "output_type": "stream",
     "text": [
      "0.734072\n"
     ]
    }
   ],
   "source": [
    "print(np.mean(accuracy_result))"
   ]
  }
 ],
 "metadata": {
  "kernelspec": {
   "display_name": "Python 3",
   "language": "python",
   "name": "python3"
  },
  "language_info": {
   "codemirror_mode": {
    "name": "ipython",
    "version": 3
   },
   "file_extension": ".py",
   "mimetype": "text/x-python",
   "name": "python",
   "nbconvert_exporter": "python",
   "pygments_lexer": "ipython3",
   "version": "3.6.0"
  }
 },
 "nbformat": 4,
 "nbformat_minor": 2
}
