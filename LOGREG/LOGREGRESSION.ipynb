{
 "cells": [
  {
   "cell_type": "code",
   "execution_count": 1,
   "metadata": {
    "collapsed": true
   },
   "outputs": [],
   "source": [
    "# Example of Logistic Regression\n",
    "# Michael Timbes"
   ]
  },
  {
   "cell_type": "code",
   "execution_count": 2,
   "metadata": {
    "collapsed": true
   },
   "outputs": [],
   "source": [
    "import tensorflow as tf\n",
    "import numpy as np\n",
    "import pandas as pd"
   ]
  },
  {
   "cell_type": "code",
   "execution_count": 3,
   "metadata": {
    "collapsed": true
   },
   "outputs": [],
   "source": [
    "def normalize(x):\n",
    "    \"\"\"\n",
    "    Normalizes an input vector.\n",
    "    \"\"\"\n",
    "    mu = np.mean(x)\n",
    "    st = np.std(x)\n",
    "    for i in range(len(x)):\n",
    "        x[i] = ((x[i]-mu)/st)\n",
    "    return x"
   ]
  },
  {
   "cell_type": "code",
   "execution_count": 4,
   "metadata": {
    "collapsed": false
   },
   "outputs": [],
   "source": [
    "def mklabels(Y_):\n",
    "    \"\"\"\n",
    "    Input is a Y vector (1-D) and makes two label classes [1,0] true [0,1] false.\n",
    "    Returns array of the classes.\n",
    "    \"\"\"\n",
    "    num = len(Y_)\n",
    "    Y_temp = np.zeros([num,2])\n",
    "    for i in range(num):\n",
    "        if (Y_[i] == 1):\n",
    "            Y_temp[i,0] = 1 # Make True Class\n",
    "        if (Y_[i] == 0):\n",
    "            Y_temp[i,1] = 1 # Make False Class\n",
    "    return np.asarray(Y_temp)"
   ]
  },
  {
   "cell_type": "code",
   "execution_count": 5,
   "metadata": {
    "collapsed": false
   },
   "outputs": [
    {
     "name": "stdout",
     "output_type": "stream",
     "text": [
      "Number of trainig input: 50\n"
     ]
    }
   ],
   "source": [
    "# Data Preparation\n",
    "data_frame =pd.read_csv('HeartData.csv', sep=',')\n",
    "data_frame = np.asarray(data_frame)\n",
    "\n",
    "# Assign Training Data to Input vectors\n",
    "X_train = data_frame[0:50,1] # Ages \n",
    "Y_train = data_frame[0:50,2] # Heart Disease(1) or not Heart Disease(0)\n",
    "\n",
    "# Assign Test Data\n",
    "X_test = data_frame[50:100,1] # Ages\n",
    "Y_test = data_frame[50:100,2] # Heart Disease(1) or not Heart Disease(0)\n",
    "# Normalize Along X\n",
    "X_train = normalize(X_train)\n",
    "num_tr = len(X_train)\n",
    "\n",
    "# Make Y a 2-D Vector for true class and false class\n",
    "Y_temp = np.zeros([num_tr,2])\n",
    "\n",
    "# Ensure One-Hot Encoding\n",
    "Y_train = mklabels(Y_train)\n",
    "Y_test = mklabels(Y_test)\n",
    "print(\"Number of trainig input:\",num_tr)"
   ]
  },
  {
   "cell_type": "code",
   "execution_count": 6,
   "metadata": {
    "collapsed": false
   },
   "outputs": [],
   "source": [
    "# Model\n",
    "alpha = 0.5\n",
    "X = tf.placeholder(tf.float32,[None,1]) # Conection for X vals\n",
    "Y = tf.placeholder(tf.float32,[None,2]) # Connection for Y vals\n",
    "\n",
    "# Design Matrix\n",
    "\n",
    "W = tf.Variable(tf.zeros([1,2])) # Two Variables for classification\n",
    "b = tf.Variable(tf.zeros([2])) # \n",
    "#h = tf.matmul(X,W) + b\n",
    "h = tf.nn.sigmoid(tf.matmul(X,W) + b)\n",
    "# Cost Function\n",
    "cost = tf.reduce_mean(tf.nn.softmax_cross_entropy_with_logits(labels=Y, logits=h))\n",
    "\n",
    "# Optimization\n",
    "opt_step = tf.train.GradientDescentOptimizer(alpha).minimize(cost)\n",
    "\n",
    "# Initialization\n",
    "session = tf.InteractiveSession()\n",
    "session.run(tf.global_variables_initializer())\n",
    "x_batch = np.ones((1, 1))\n",
    "y_batch = np.ones((1, 2))"
   ]
  },
  {
   "cell_type": "code",
   "execution_count": 7,
   "metadata": {
    "collapsed": false
   },
   "outputs": [],
   "source": [
    "# Training \n",
    "for i in range(500):\n",
    "    r = np.random.permutation(range(num_tr))\n",
    "    X_train,Y_train = X_train[r], Y_train[r]\n",
    "    for j in range(num_tr):\n",
    "        x_batch[0,:] = X_train[j]\n",
    "        y_batch[0,:] = Y_train[j]\n",
    "        session.run(opt_step,feed_dict={X:x_batch,Y:y_batch})"
   ]
  },
  {
   "cell_type": "code",
   "execution_count": 8,
   "metadata": {
    "collapsed": false
   },
   "outputs": [
    {
     "name": "stdout",
     "output_type": "stream",
     "text": [
      "W=  [[ 0.22967467 -0.22967562]]\n",
      "B=  [-7.00953913  7.00954771]\n",
      "Total Loss:  1.31221\n"
     ]
    }
   ],
   "source": [
    "# Verification\n",
    "for j in range(num_tr):\n",
    "        x_batch[0,:] = X_train[j]\n",
    "        y_batch[0,:] = Y_train[j]\n",
    "        b_reg, W_reg, loss_result = session.run([b,W,cost],feed_dict={X:x_batch,Y:y_batch})\n",
    "print(\"W= \",W_reg)\n",
    "print(\"B= \",b_reg)\n",
    "print(\"Total Loss: \", loss_result)"
   ]
  },
  {
   "cell_type": "code",
   "execution_count": 9,
   "metadata": {
    "collapsed": false
   },
   "outputs": [
    {
     "name": "stdout",
     "output_type": "stream",
     "text": [
      "0.68\n",
      "[ 1.  1.  0.  1.  0.  1.  0.  0.  1.]\n",
      "[[ 1.  0.]\n",
      " [ 1.  0.]\n",
      " [ 0.  1.]\n",
      " [ 1.  0.]\n",
      " [ 0.  1.]\n",
      " [ 1.  0.]\n",
      " [ 0.  1.]\n",
      " [ 0.  1.]\n",
      " [ 1.  0.]]\n"
     ]
    }
   ],
   "source": [
    "# Testing\n",
    "accuracy_result = []\n",
    "for j in range(num_tr):\n",
    "        x_batch[0,:] = X_test[j]\n",
    "        y_batch[0,:] = Y_test[j]\n",
    "        correct_prediction = tf.equal(tf.argmax(h,1), tf.argmax(Y,1))\n",
    "        accuracy = tf.reduce_mean(tf.cast(correct_prediction, tf.float32))\n",
    "        accuracy_result.append(accuracy.eval(feed_dict={X:x_batch,Y:y_batch}))\n",
    "accuracy_result = np.asarray(accuracy_result)\n",
    "print(np.mean(accuracy_result))\n",
    "print(accuracy_result[0:9])\n",
    "print(Y_test[0:9])"
   ]
  },
  {
   "cell_type": "code",
   "execution_count": 10,
   "metadata": {
    "collapsed": true
   },
   "outputs": [],
   "source": [
    "for i in range(500):\n",
    "    r = np.random.permutation(range(num_tr))\n",
    "    X_test,Y_test = X_test[r], Y_test[r]\n",
    "    for j in range(num_tr):\n",
    "        x_batch[0,:] = X_train[j]\n",
    "        y_batch[0,:] = Y_train[j]\n",
    "        session.run(opt_step,feed_dict={X:x_batch,Y:y_batch})"
   ]
  }
 ],
 "metadata": {
  "kernelspec": {
   "display_name": "Python 3",
   "language": "python",
   "name": "python3"
  },
  "language_info": {
   "codemirror_mode": {
    "name": "ipython",
    "version": 3
   },
   "file_extension": ".py",
   "mimetype": "text/x-python",
   "name": "python",
   "nbconvert_exporter": "python",
   "pygments_lexer": "ipython3",
   "version": "3.6.0"
  }
 },
 "nbformat": 4,
 "nbformat_minor": 2
}
