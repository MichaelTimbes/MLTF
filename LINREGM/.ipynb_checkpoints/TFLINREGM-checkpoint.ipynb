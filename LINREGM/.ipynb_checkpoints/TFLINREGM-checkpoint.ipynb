{
 "cells": [
  {
   "cell_type": "code",
   "execution_count": 1,
   "metadata": {
    "collapsed": true
   },
   "outputs": [],
   "source": [
    "# Example of multiple variable linear regression using Tensorflow.\n",
    "# Michael Timbes"
   ]
  },
  {
   "cell_type": "code",
   "execution_count": 2,
   "metadata": {
    "collapsed": true
   },
   "outputs": [],
   "source": [
    "import tensorflow as tf\n",
    "import numpy as np\n",
    "import pandas as pd\n",
    "import matplotlib.pyplot as plt\n",
    "from mpl_toolkits.mplot3d import Axes3D\n",
    "data_frame = np.asarray(pd.read_csv('realestate.csv', sep=','))"
   ]
  },
  {
   "cell_type": "code",
   "execution_count": 3,
   "metadata": {
    "collapsed": true
   },
   "outputs": [],
   "source": [
    "def normalize(x):\n",
    "    \"\"\"\n",
    "    Normalizes an input vector.\n",
    "    \"\"\"\n",
    "    mu = np.mean(x)\n",
    "    st = np.std(x)\n",
    "    for i in range(len(x)):\n",
    "        x[i] = ((x[i]-mu)/st)\n",
    "    return x"
   ]
  },
  {
   "cell_type": "code",
   "execution_count": 4,
   "metadata": {
    "collapsed": false
   },
   "outputs": [
    {
     "name": "stdout",
     "output_type": "stream",
     "text": [
      "(781, 2)\n"
     ]
    }
   ],
   "source": [
    "# Data Description:\n",
    "# data_frame[:,0]- MLS# Unique ID\n",
    "# data_frame[:,1]- Location City, Town\n",
    "# data_frame[:,2]- Price $\n",
    "# data_frame[:,3]- # of Bedrooms\n",
    "# data_frame[:,4]- Size in sq. ft.\n",
    "# data_frame[:,5]- Price/sq.ft.\n",
    "# data_frame[:,6]- Type of sale: Short Sale, Foreclosure, Regular\n",
    "#################################################################\n",
    "#\n",
    "# Data Preparation\n",
    "X0 = data_frame[:,3]\n",
    "X1 = data_frame[:,4]\n",
    "Ys = data_frame[:,2]\n",
    "num_tr = len(X0)\n",
    "# Prep-X\n",
    "X_tr = np.zeros([num_tr,2])\n",
    "X_tr[:,0] = normalize(X0)\n",
    "X_tr[:,1] = normalize(X1)\n",
    "#X_tr[:,0] = X0\n",
    "#X_tr[:,1] = X1\n",
    "print(X_tr.shape)\n",
    "# Prep-Y\n",
    "Y_tr = np.zeros([num_tr])\n",
    "Y_tr[:] = Ys"
   ]
  },
  {
   "cell_type": "code",
   "execution_count": 5,
   "metadata": {
    "collapsed": false
   },
   "outputs": [],
   "source": [
    "fig = plt.figure()\n",
    "ax = fig.add_subplot(111, projection='3d')\n",
    "ax.scatter(X1,X2,Ys,c='r', marker='o')\n",
    "ax.set_xlabel('Bedrooms')\n",
    "ax.set_ylabel('Size')\n",
    "ax.set_zlabel('Price')\n",
    "plt.show()"
   ]
  },
  {
   "cell_type": "code",
   "execution_count": 6,
   "metadata": {
    "collapsed": false
   },
   "outputs": [],
   "source": [
    "# Model\n",
    "alpha = 0.05\n",
    "\n",
    "# Theta Values\n",
    "W = tf.Variable(np.ones([2,1]))\n",
    "b = tf.Variable(np.ones([1,1]))\n",
    "\n",
    "# Input Parameter x\n",
    "X = tf.placeholder(tf.float64,[1,2])\n",
    "\n",
    "# Input Parameter y\n",
    "Y = tf.placeholder(tf.float64)\n",
    "\n",
    "# Linear Model\n",
    "h = tf.matmul(X,W) + b\n",
    "\n",
    "# Define Cost Variable\n",
    "cost = tf.reduce_sum(tf.square(h - Y))\n",
    "\n",
    "# Define Optimization Object\n",
    "optimizationobj = tf.train.GradientDescentOptimizer(alpha)\n",
    "improve = optimizationobj.minimize(cost)"
   ]
  },
  {
   "cell_type": "code",
   "execution_count": 7,
   "metadata": {
    "collapsed": false
   },
   "outputs": [],
   "source": [
    "# Training Phase\n",
    "global_init = tf.global_variables_initializer()\n",
    "session = tf.Session()\n",
    "session.run(global_init) # Activate Envir\n",
    "X_dum = np.zeros([1,2])\n",
    "# Train Loop\n",
    "for i in range(500):\n",
    "    for j in range(num_tr):\n",
    "        X_dum[0,0] = X0[j]\n",
    "        X_dum[0,1] = X1[j]\n",
    "    session.run(improve,{X:X_dum,Y:Y_tr[j]})\n"
   ]
  },
  {
   "cell_type": "code",
   "execution_count": 8,
   "metadata": {
    "collapsed": false
   },
   "outputs": [
    {
     "name": "stdout",
     "output_type": "stream",
     "text": [
      "W = -113747.066, 521038.482 \n",
      "B = 684463.738 \n",
      "Total Loss: 5.421e-20 \n"
     ]
    }
   ],
   "source": [
    "for j in range(num_tr):\n",
    "        X_dum[0,0] = X_tr[j,0]\n",
    "        X_dum[0,1] = X_tr[j,1]\n",
    "        b_reg, W_reg, loss_result = session.run([b,W,cost],feed_dict={X:X_dum,Y:Y_tr[j]})\n",
    "print(\"W = %8.3f, %8.3f \"% (W_reg[0],W_reg[1]))\n",
    "print(\"B = %8.3f \"% (b_reg))\n",
    "print(\"Total Loss: %8.3e \"% (loss_result))"
   ]
  },
  {
   "cell_type": "code",
   "execution_count": 9,
   "metadata": {
    "collapsed": false
   },
   "outputs": [
    {
     "name": "stdout",
     "output_type": "stream",
     "text": [
      "Predicted: 484154.170 Actual: 520000.000 \n",
      "Accuracy:   6.893   Difference: 35845.830\n"
     ]
    }
   ],
   "source": [
    "# Prediction Test\n",
    "X_dum[0,0] = X_tr[100,0]\n",
    "X_dum[0,1] = X_tr[100,1]\n",
    "H = np.matmul(X_dum,W_reg)+ b_reg\n",
    "print(\"Predicted: %8.3f Actual: %8.3f \"% (H,Y_tr[100]))\n",
    "acc = (Y_tr[100]-H)/Y_tr[100]\n",
    "# Positive Accuracy = Under Estimate\n",
    "# Negative Accuracy = Over Estimate\n",
    "print(\"Accuracy:%8.3f   Difference: %8.3f\"%(100*acc,Y_tr[100]-H))"
   ]
  }
 ],
 "metadata": {
  "kernelspec": {
   "display_name": "Python 3",
   "language": "python",
   "name": "python3"
  },
  "language_info": {
   "codemirror_mode": {
    "name": "ipython",
    "version": 3
   },
   "file_extension": ".py",
   "mimetype": "text/x-python",
   "name": "python",
   "nbconvert_exporter": "python",
   "pygments_lexer": "ipython3",
   "version": "3.6.0"
  }
 },
 "nbformat": 4,
 "nbformat_minor": 2
}
