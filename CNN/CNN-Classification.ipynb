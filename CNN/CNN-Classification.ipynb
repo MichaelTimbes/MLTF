{
 "cells": [
  {
   "cell_type": "code",
   "execution_count": 1,
   "metadata": {
    "collapsed": true
   },
   "outputs": [],
   "source": [
    "import tensorflow as tf\n",
    "import numpy as np\n",
    "import matplotlib.pyplot as plt\n",
    "import matplotlib.image as mpimg\n",
    "%matplotlib inline\n",
    "import img_pross_help as imgh\n",
    "import tf_helper_funcs as tf_help"
   ]
  },
  {
   "cell_type": "code",
   "execution_count": 2,
   "metadata": {
    "collapsed": true
   },
   "outputs": [],
   "source": [
    "def vect_to_num(v):\n",
    "    pwr = len(v)-1\n",
    "    num = 0\n",
    "    \n",
    "    for i in range(len(v)):\n",
    "        num+=v[i]*(2**pwr)\n",
    "        pwr-=1\n",
    "    return num\n",
    "def one_hot_(v):\n",
    "    ans = len(v)\n",
    "    for val in v:\n",
    "        if val is 1:\n",
    "            return ans\n",
    "        else:\n",
    "            ans -=1\n",
    "def extract_classnum(vect,keyref):\n",
    "    outp = []\n",
    "    for v in vect:\n",
    "        for cat, v in keyref.items():\n",
    "            outp.append(str(v) + \" \" + str(cat))\n",
    "    return outp\n"
   ]
  },
  {
   "cell_type": "code",
   "execution_count": 3,
   "metadata": {
    "collapsed": true
   },
   "outputs": [],
   "source": [
    "# Dictionary for Image Encoding\n",
    "key_dict = {\n",
    "    'laptop':[0,0,0,1],\n",
    "    'cup':[0,0,1,0],\n",
    "    'chair':[0,1,0,0],\n",
    "    'car':[1,0,0,0]\n",
    "}\n",
    "translate_dict = {\n",
    "    4:'Failed Prediction Class',\n",
    "    3:'Category: 1 Name: laptop',\n",
    "    2:'Category: 2 Name: cup',\n",
    "    1:'Category: 3 Name: chair',\n",
    "    0:'Category: 4 Name: car'\n",
    "}\n",
    "# Data Pre-process and Global Variables\n",
    "img_wh = 64 # Image Width and Height\n",
    "img_flat = img_wh**2 # The size of the image flattened\n",
    "img_shape = (img_wh,img_wh) # Holds the dimension of the image\n",
    "color_channels = 3 # RGB is a 3 color channel\n",
    "num_classes = 4 # 4 Total number of classification possibilities\n",
    "#imgh.PrepImages(\"images/all_source_images\",\"images/train_imgs\", \"images/test_imgs\",img_wh,img_wh,0.7) #Only needs to be ran initially"
   ]
  },
  {
   "cell_type": "code",
   "execution_count": 4,
   "metadata": {},
   "outputs": [
    {
     "name": "stdout",
     "output_type": "stream",
     "text": [
      "Training Label Shape:  (227, 4)\n",
      "Training Images Shape: (227, 64, 64, 3)\n",
      " \n",
      "Testing Label Shape:  (96, 4)\n",
      "Testing Images Shape: (96, 64, 64, 3)\n"
     ]
    }
   ],
   "source": [
    "train_Images,train_Labels = imgh.ImportImages(\"images/train_imgs\",key_dict) # Extract Training Images and Labels\n",
    "test_Images,test_Labels = imgh.ImportImages(\"images/test_imgs\",key_dict)# Extract Testing Images and Labels\n",
    "\n",
    "#train_Images = imgh.shape_up_X(train_Images,img_wh,color_channels,train_Labels.shape[0])\n",
    "#test_Images = imgh.shape_up_X(test_Images,img_wh,color_channels,test_Labels.shape[0])\n",
    "\n",
    "print(\"Training Label Shape: \",train_Labels.shape)\n",
    "print(\"Training Images Shape:\",train_Images.shape)\n",
    "print(\" \")\n",
    "print(\"Testing Label Shape: \",test_Labels.shape)\n",
    "print(\"Testing Images Shape:\",test_Images.shape)\n",
    "# Randomize Data\n",
    "for i in range(10):\n",
    "    r = np.random.permutation(range(len(test_Labels)))\n",
    "    \n",
    "    test_Labels = test_Labels[r,:]\n",
    "    test_Images = test_Images[r,:]"
   ]
  },
  {
   "cell_type": "code",
   "execution_count": 5,
   "metadata": {},
   "outputs": [
    {
     "name": "stdout",
     "output_type": "stream",
     "text": [
      "Training Label Example: \n"
     ]
    },
    {
     "data": {
      "text/plain": [
       "array([[1, 0, 0, 0],\n",
       "       [1, 0, 0, 0],\n",
       "       [1, 0, 0, 0],\n",
       "       [1, 0, 0, 0],\n",
       "       [1, 0, 0, 0],\n",
       "       [1, 0, 0, 0],\n",
       "       [1, 0, 0, 0],\n",
       "       [1, 0, 0, 0],\n",
       "       [1, 0, 0, 0],\n",
       "       [1, 0, 0, 0]])"
      ]
     },
     "execution_count": 5,
     "metadata": {},
     "output_type": "execute_result"
    }
   ],
   "source": [
    "print(\"Training Label Example: \")\n",
    "train_Labels[0:10]"
   ]
  },
  {
   "cell_type": "code",
   "execution_count": 6,
   "metadata": {
    "collapsed": true
   },
   "outputs": [],
   "source": [
    "X = tf.placeholder(tf.float32, shape=[None,img_wh, img_wh, color_channels]) # X Input Site\n",
    "x_image = tf.reshape(X, [-1, img_wh, img_wh, color_channels])\n",
    "Y = tf.placeholder(tf.float32, shape=[None,num_classes]) # Class Output Variable"
   ]
  },
  {
   "cell_type": "code",
   "execution_count": 7,
   "metadata": {
    "collapsed": true
   },
   "outputs": [],
   "source": [
    "# Create First Convolutional Layer\n",
    "\n",
    "CONV_L1 = tf_help.new_conv2d_layer(x_image,64,6)\n",
    "\n",
    "# Create Second Convolutional Layer\n",
    "\n",
    "CONV_L2= tf_help.new_conv2d_layer(CONV_L1,32,3)\n",
    "\n",
    "# Optional Pooling Layer\n",
    "\n",
    "#POOL_L0 = tf_help.new_max_pool(CONV_L2,4)\n",
    "\n",
    "# Create Third Convolutional Layer with Pooling\n",
    "\n",
    "# V1\n",
    "CONV_L3= tf_help.new_conv2d_layer(CONV_L2,22,2)\n",
    "\n",
    "# V2\n",
    "#CONV_L3= tf_help.new_conv2d_layer(POOL_L0,22,2)\n",
    "\n",
    "# Pooling Layer After Third Convolutional Layer\n",
    "POOL_L1 = tf_help.new_max_pool(CONV_L3,12)\n",
    "\n",
    "# First Fully Connected Layer \n",
    "conv3_, conv3_len = tf_help.flatten_layer(POOL_L1)\n",
    "FC_L1 = tf.layers.dense(inputs= conv3_, units= conv3_len, activation = tf.nn.relu)\n",
    "\n",
    "# Increase Accuracy with Dropout\n",
    "\n",
    "FC_1Drop = tf.layers.dropout(FC_L1,rate=0.2,training=True)\n",
    "\n",
    "# Second Fully Connected Layer\n",
    "# V1- Without Dropout\n",
    "#FC_L2 = tf.layers.dense(inputs=FC_L1, units=num_classes)\n",
    "# V2- With Dropout\n",
    "FC_L2 = tf.layers.dense(inputs=FC_1Drop, units=num_classes)\n"
   ]
  },
  {
   "cell_type": "code",
   "execution_count": 8,
   "metadata": {},
   "outputs": [
    {
     "data": {
      "text/plain": [
       "<tf.Tensor 'conv2d/Relu:0' shape=(?, 64, 64, 64) dtype=float32>"
      ]
     },
     "execution_count": 8,
     "metadata": {},
     "output_type": "execute_result"
    }
   ],
   "source": [
    "CONV_L1"
   ]
  },
  {
   "cell_type": "code",
   "execution_count": 9,
   "metadata": {},
   "outputs": [
    {
     "data": {
      "text/plain": [
       "<tf.Tensor 'conv2d_2/Relu:0' shape=(?, 64, 64, 32) dtype=float32>"
      ]
     },
     "execution_count": 9,
     "metadata": {},
     "output_type": "execute_result"
    }
   ],
   "source": [
    "CONV_L2"
   ]
  },
  {
   "cell_type": "code",
   "execution_count": 10,
   "metadata": {},
   "outputs": [
    {
     "data": {
      "text/plain": [
       "<tf.Tensor 'dropout/dropout/mul:0' shape=(?, 16038) dtype=float32>"
      ]
     },
     "execution_count": 10,
     "metadata": {},
     "output_type": "execute_result"
    }
   ],
   "source": [
    "#POOL_L0\n",
    "FC_1Drop"
   ]
  },
  {
   "cell_type": "code",
   "execution_count": 11,
   "metadata": {},
   "outputs": [
    {
     "data": {
      "text/plain": [
       "<tf.Tensor 'conv2d_3/Relu:0' shape=(?, 64, 64, 22) dtype=float32>"
      ]
     },
     "execution_count": 11,
     "metadata": {},
     "output_type": "execute_result"
    }
   ],
   "source": [
    "CONV_L3"
   ]
  },
  {
   "cell_type": "code",
   "execution_count": 12,
   "metadata": {},
   "outputs": [
    {
     "data": {
      "text/plain": [
       "<tf.Tensor 'max_pooling2d/MaxPool:0' shape=(?, 27, 27, 22) dtype=float32>"
      ]
     },
     "execution_count": 12,
     "metadata": {},
     "output_type": "execute_result"
    }
   ],
   "source": [
    "POOL_L1"
   ]
  },
  {
   "cell_type": "code",
   "execution_count": 13,
   "metadata": {},
   "outputs": [
    {
     "data": {
      "text/plain": [
       "<tf.Tensor 'dense/Relu:0' shape=(?, 16038) dtype=float32>"
      ]
     },
     "execution_count": 13,
     "metadata": {},
     "output_type": "execute_result"
    }
   ],
   "source": [
    "FC_L1"
   ]
  },
  {
   "cell_type": "code",
   "execution_count": 14,
   "metadata": {},
   "outputs": [
    {
     "data": {
      "text/plain": [
       "<tf.Tensor 'dense_2/BiasAdd:0' shape=(?, 4) dtype=float32>"
      ]
     },
     "execution_count": 14,
     "metadata": {},
     "output_type": "execute_result"
    }
   ],
   "source": [
    "FC_L2"
   ]
  },
  {
   "cell_type": "code",
   "execution_count": 15,
   "metadata": {
    "collapsed": true
   },
   "outputs": [],
   "source": [
    "                                # Build and Connect Model\n",
    "# Y\n",
    "y_out =tf.nn.softmax(FC_L2) # Prototype Y output vector\n",
    "#y_class = tf.argmax(y_out,axis=1) # Keep Largest Element of Vector\n",
    "y_class = tf.argmax(y_out,1)\n",
    "\n",
    "# Cost Function\n",
    "cost = tf.nn.softmax_cross_entropy_with_logits(logits = FC_L2, labels = Y)\n",
    "cost_fun = tf.reduce_mean(cost)\n",
    "\n",
    "# Cost Optimization\n",
    "#optimize_fun = tf.train.GradientDescentOptimizer(0.05).minimize(cost_fun)\n",
    "optimize_fun = tf.train.AdamOptimizer(learning_rate=1e-5, beta1=0.9, beta2=0.999, epsilon=1e-07).minimize(cost_fun)\n",
    "\n",
    "# Accuracy Measurements\n",
    "correct_ =  tf.equal(tf.cast(y_out, tf.float32), Y)\n",
    "accuracy = tf.reduce_mean(tf.cast(correct_, tf.float32))"
   ]
  },
  {
   "cell_type": "code",
   "execution_count": 16,
   "metadata": {
    "collapsed": true
   },
   "outputs": [],
   "source": [
    "# Init Session\n",
    "session = tf.InteractiveSession()\n",
    "session.run(tf.global_variables_initializer())\n",
    "# Define Batch Size for Train Step\n",
    "batch_size = 8"
   ]
  },
  {
   "cell_type": "code",
   "execution_count": 17,
   "metadata": {},
   "outputs": [
    {
     "name": "stdout",
     "output_type": "stream",
     "text": [
      " At Iteration: 0 Accuracy: 4.69%\n",
      "Randomizing..\n",
      " At Iteration: 10 Accuracy: 46.88%\n",
      " At Iteration: 20 Accuracy: 64.84%\n",
      "Randomizing..\n",
      " At Iteration: 30 Accuracy: 72.66%\n",
      " At Iteration: 40 Accuracy: 70.31%\n",
      " At Iteration: 50 Accuracy: 73.44%\n",
      "Randomizing..\n",
      " At Iteration: 60 Accuracy: 56.25%\n",
      " At Iteration: 70 Accuracy: 76.56%\n",
      "Randomizing..\n",
      " At Iteration: 80 Accuracy: 75.78%\n",
      " At Iteration: 90 Accuracy: 82.03%\n"
     ]
    }
   ],
   "source": [
    "                                # Training Loop\n",
    "for itr in range(100):\n",
    "    j_old = 0\n",
    "    #print(\"Iteration: \",itr)\n",
    "    if(itr % 10 is 0):\n",
    "        r = np.random.permutation(range(int(len(test_Labels)/3)))\n",
    "        accr = accuracy.eval(feed_dict = {X:test_Images[r], Y:test_Labels[r]})\n",
    "        print(\" At Iteration: \" + str(itr) + \" Accuracy: \"+'{:.2%}'.format(accr))\n",
    "    if(itr % 25 is 0):\n",
    "        print(\"Randomizing..\")\n",
    "        r = np.random.permutation(range(len(train_Labels)))\n",
    "        train_Labels = train_Labels[r,:]\n",
    "        train_Images = train_Images[r,:]\n",
    "    # Loop to Batch Train\n",
    "    for j in range(batch_size,len(train_Images),batch_size):\n",
    "        session.run(optimize_fun,feed_dict = {X:train_Images[j_old:j], Y:train_Labels[j_old:j]})\n",
    "        j_old = j"
   ]
  },
  {
   "cell_type": "code",
   "execution_count": 18,
   "metadata": {},
   "outputs": [
    {
     "name": "stdout",
     "output_type": "stream",
     "text": [
      "Accuracy: \n",
      "76.40%\n",
      "\n",
      "Results: \n",
      "[3 2 2 3 2 2 3 0 3 3 0 0 3 3 3 0 0 0 2 0 0 3 0 0 1 2 0 0 3 1 0 0 3 2 3 3 2\n",
      " 3 0 1 0 1 2 0 1 0 0 1 3 1]\n",
      "\n",
      "True Labels: \n",
      "3\n",
      "At Index: 0\n",
      "Predicted: Category: 1 Name: laptop --> Actual: Category: 1 Name: laptop\n",
      "At Index: 1\n",
      "Predicted: Category: 2 Name: cup --> Actual: Category: 2 Name: cup\n",
      "At Index: 2\n",
      "Predicted: Category: 2 Name: cup --> Actual: Category: 2 Name: cup\n",
      "At Index: 3\n",
      "Predicted: Category: 1 Name: laptop --> Actual: Category: 1 Name: laptop\n",
      "At Index: 4\n",
      "Predicted: Category: 2 Name: cup --> Actual: Category: 3 Name: chair\n",
      "At Index: 5\n",
      "Predicted: Category: 2 Name: cup --> Actual: Category: 1 Name: laptop\n",
      "At Index: 6\n",
      "Predicted: Category: 1 Name: laptop --> Actual: Category: 2 Name: cup\n",
      "At Index: 7\n",
      "Predicted: Category: 4 Name: car --> Actual: Category: 4 Name: car\n",
      "At Index: 8\n",
      "Predicted: Category: 1 Name: laptop --> Actual: Category: 1 Name: laptop\n",
      "At Index: 9\n",
      "Predicted: Category: 1 Name: laptop --> Actual: Category: 1 Name: laptop\n",
      "At Index: 10\n",
      "Predicted: Category: 4 Name: car --> Actual: Category: 4 Name: car\n",
      "At Index: 11\n",
      "Predicted: Category: 4 Name: car --> Actual: Category: 4 Name: car\n",
      "At Index: 12\n",
      "Predicted: Category: 1 Name: laptop --> Actual: Category: 3 Name: chair\n",
      "At Index: 13\n",
      "Predicted: Category: 1 Name: laptop --> Actual: Category: 1 Name: laptop\n",
      "At Index: 14\n",
      "Predicted: Category: 1 Name: laptop --> Actual: Category: 1 Name: laptop\n",
      "At Index: 15\n",
      "Predicted: Category: 4 Name: car --> Actual: Category: 4 Name: car\n",
      "At Index: 16\n",
      "Predicted: Category: 4 Name: car --> Actual: Category: 4 Name: car\n",
      "At Index: 17\n",
      "Predicted: Category: 4 Name: car --> Actual: Category: 4 Name: car\n",
      "At Index: 18\n",
      "Predicted: Category: 2 Name: cup --> Actual: Category: 3 Name: chair\n",
      "At Index: 19\n",
      "Predicted: Category: 4 Name: car --> Actual: Category: 4 Name: car\n",
      "At Index: 20\n",
      "Predicted: Category: 4 Name: car --> Actual: Category: 4 Name: car\n",
      "At Index: 21\n",
      "Predicted: Category: 1 Name: laptop --> Actual: Category: 1 Name: laptop\n",
      "At Index: 22\n",
      "Predicted: Category: 4 Name: car --> Actual: Category: 4 Name: car\n",
      "At Index: 23\n",
      "Predicted: Category: 4 Name: car --> Actual: Category: 4 Name: car\n",
      "At Index: 24\n",
      "Predicted: Category: 3 Name: chair --> Actual: Category: 1 Name: laptop\n",
      "At Index: 25\n",
      "Predicted: Category: 2 Name: cup --> Actual: Category: 3 Name: chair\n",
      "At Index: 26\n",
      "Predicted: Category: 4 Name: car --> Actual: Category: 4 Name: car\n",
      "At Index: 27\n",
      "Predicted: Category: 4 Name: car --> Actual: Category: 4 Name: car\n",
      "At Index: 28\n",
      "Predicted: Category: 1 Name: laptop --> Actual: Category: 1 Name: laptop\n",
      "At Index: 29\n",
      "Predicted: Category: 3 Name: chair --> Actual: Category: 3 Name: chair\n",
      "At Index: 30\n",
      "Predicted: Category: 4 Name: car --> Actual: Category: 4 Name: car\n",
      "At Index: 31\n",
      "Predicted: Category: 4 Name: car --> Actual: Category: 4 Name: car\n",
      "At Index: 32\n",
      "Predicted: Category: 1 Name: laptop --> Actual: Category: 2 Name: cup\n",
      "At Index: 33\n",
      "Predicted: Category: 2 Name: cup --> Actual: Category: 1 Name: laptop\n",
      "At Index: 34\n",
      "Predicted: Category: 1 Name: laptop --> Actual: Category: 1 Name: laptop\n",
      "At Index: 35\n",
      "Predicted: Category: 1 Name: laptop --> Actual: Category: 1 Name: laptop\n",
      "At Index: 36\n",
      "Predicted: Category: 2 Name: cup --> Actual: Category: 2 Name: cup\n",
      "At Index: 37\n",
      "Predicted: Category: 1 Name: laptop --> Actual: Category: 1 Name: laptop\n",
      "At Index: 38\n",
      "Predicted: Category: 4 Name: car --> Actual: Category: 4 Name: car\n",
      "At Index: 39\n",
      "Predicted: Category: 3 Name: chair --> Actual: Category: 3 Name: chair\n",
      "At Index: 40\n",
      "Predicted: Category: 4 Name: car --> Actual: Category: 4 Name: car\n",
      "At Index: 41\n",
      "Predicted: Category: 3 Name: chair --> Actual: Category: 3 Name: chair\n",
      "At Index: 42\n",
      "Predicted: Category: 2 Name: cup --> Actual: Category: 1 Name: laptop\n",
      "At Index: 43\n",
      "Predicted: Category: 4 Name: car --> Actual: Category: 4 Name: car\n",
      "At Index: 44\n",
      "Predicted: Category: 3 Name: chair --> Actual: Category: 3 Name: chair\n",
      "At Index: 45\n",
      "Predicted: Category: 4 Name: car --> Actual: Category: 4 Name: car\n",
      "At Index: 46\n",
      "Predicted: Category: 4 Name: car --> Actual: Category: 4 Name: car\n",
      "At Index: 47\n",
      "Predicted: Category: 3 Name: chair --> Actual: Category: 3 Name: chair\n",
      "At Index: 48\n",
      "Predicted: Category: 1 Name: laptop --> Actual: Category: 1 Name: laptop\n",
      "At Index: 49\n",
      "Predicted: Category: 3 Name: chair --> Actual: Category: 3 Name: chair\n"
     ]
    }
   ],
   "source": [
    "p = accuracy.eval(feed_dict = {X:test_Images[0:50], Y:test_Labels[0:50]})\n",
    "p2 = accuracy.eval(feed_dict = {X:test_Images[50:100], Y:test_Labels[50:100]})\n",
    "test = session.run(y_class,feed_dict = {X:test_Images[0:50], Y:test_Labels[0:50]})\n",
    "print(\"Accuracy: \")\n",
    "avg = (p+p2)/2\n",
    "print( '{:.2%}'.format(avg))\n",
    "print()\n",
    "print(\"Results: \")\n",
    "#test = np.argmax(test) \n",
    "print(test)\n",
    "print()\n",
    "print(\"True Labels: \")\n",
    "print(np.argmax(test_Labels[0]))\n",
    "#print(\"One Hot Val: \", np.argmax(test_Labels[0]))\n",
    "for i in range(0,50):\n",
    "    print(\"At Index: %d\"%(i))\n",
    "    print(\"Predicted: %s --> Actual: %s\"%(translate_dict[(test[i])],translate_dict[np.argmax(test_Labels[i])]))"
   ]
  },
  {
   "cell_type": "code",
   "execution_count": 19,
   "metadata": {},
   "outputs": [
    {
     "name": "stdout",
     "output_type": "stream",
     "text": [
      "Category: 1 Name: laptop\n"
     ]
    },
    {
     "data": {
      "image/png": "[encoded data removed]",
      "text/plain": [
       "<matplotlib.figure.Figure at 0x1f124c10cf8>"
      ]
     },
     "metadata": {},
     "output_type": "display_data"
    }
   ],
   "source": [
    "ref_index = 9\n",
    "img = test_Images[ref_index]\n",
    "\n",
    "plt.imshow(img.astype(np.uint8))\n",
    "print(translate_dict[(test[ref_index])])"
   ]
  }
 ],
 "metadata": {
  "kernelspec": {
   "display_name": "Python 3",
   "language": "python",
   "name": "python3"
  },
  "language_info": {
   "codemirror_mode": {
    "name": "ipython",
    "version": 3
   },
   "file_extension": ".py",
   "mimetype": "text/x-python",
   "name": "python",
   "nbconvert_exporter": "python",
   "pygments_lexer": "ipython3",
   "version": "3.6.2"
  }
 },
 "nbformat": 4,
 "nbformat_minor": 2
}
